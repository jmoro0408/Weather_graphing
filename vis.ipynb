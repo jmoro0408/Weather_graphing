{
 "cells": [
  {
   "cell_type": "code",
   "execution_count": 332,
   "metadata": {},
   "outputs": [],
   "source": [
    "from pathlib import Path\n",
    "import pandas as pd\n",
    "import numpy as np\n",
    "import seaborn as sns\n",
    "import matplotlib.pyplot as plt\n",
    "\n",
    "plt.style.use(\"seaborn-v0_8-whitegrid\")\n",
    "from datetime import datetime\n",
    "import plotly.express as px\n",
    "import plotly.graph_objects as go"
   ]
  },
  {
   "cell_type": "code",
   "execution_count": 333,
   "metadata": {},
   "outputs": [],
   "source": [
    "current_month = datetime.today().month\n",
    "current_year = datetime.today().year\n",
    "month_mapping = {\n",
    "    1: \"jan\",\n",
    "    2: \"feb\",\n",
    "    3: \"mar\",\n",
    "    4: \"apr\",\n",
    "    5: \"may\",\n",
    "    6: \"jun\",\n",
    "    7: \"jul\",\n",
    "    8: \"aug\",\n",
    "    9: \"sep\",\n",
    "    10: \"oct\",\n",
    "    11: \"nov\",\n",
    "    12: \"dec\",\n",
    "}\n",
    "months = list(month_mapping.values())\n",
    "current_month_name = month_mapping[current_month]\n",
    "months_to_overwrite = []\n",
    "for i in range(current_month, 13):\n",
    "    months_to_overwrite.append(month_mapping[i])"
   ]
  },
  {
   "cell_type": "code",
   "execution_count": 334,
   "metadata": {},
   "outputs": [],
   "source": [
    "LOAD_DIR = Path(Path.cwd(), \"data\")\n",
    "fnames = [\"rainfall.txt\", \"sunshine.txt\", \"tmax.txt\", \"tmean.txt\", \"tmin.txt\"]\n",
    "titles = [\"Rainfall\", \"Sunshine\", \"Max Temp\", \"Mean Temp\", \"Min Temp\"]\n",
    "raw_data_dict = {}\n",
    "for fname in fnames:\n",
    "    with open(Path(LOAD_DIR, fname)) as f:\n",
    "        data = f.readlines()[5:]\n",
    "    raw_data_dict[fname[:-4]] = data"
   ]
  },
  {
   "cell_type": "code",
   "execution_count": 335,
   "metadata": {},
   "outputs": [
    {
     "data": {
      "text/plain": [
       "['year    jan    feb    mar    apr    may    jun    jul    aug    sep    oct    nov    dec     win     spr     sum     aut     ann\\n',\n",
       " '1836  101.5   69.8  122.2   75.1   13.8   76.5  109.2   63.1  113.2  120.8  150.0  108.6     ---   211.1   248.8   384.1  1123.8\\n',\n",
       " '1837   79.5  104.7   36.2   54.1   39.9   57.9   87.5   90.7   67.5   97.0   97.8   96.0   292.8   130.2   236.1   262.3   908.9\\n',\n",
       " '1838   35.4   55.5   69.4   57.1   61.8  117.8   84.2   92.8   74.9   93.7  120.5   74.3   186.9   188.3   294.9   289.1   937.4\\n',\n",
       " '1839   75.7   67.2   83.1   38.4   35.5   93.7  118.5   84.3  145.1  102.1  116.0  103.9   217.2   157.0   296.5   363.3  1063.6\\n',\n",
       " '1840  124.6   67.9   14.2   23.2   83.6   68.6   90.3   78.0  106.1   65.9  126.3   41.0   296.5   121.0   237.0   298.3   889.8\\n',\n",
       " '1841   80.0   58.6   74.3   56.6   70.4   70.1   91.2  118.0  118.6  151.4  108.5  123.7   179.6   201.2   279.4   378.5  1121.4\\n',\n",
       " '1842   77.9   68.4  110.9   11.2   65.8   63.1   77.9   64.3   90.0   63.9  138.3   91.5   270.0   188.0   205.4   292.3   923.5\\n',\n",
       " '1843  104.4   57.4   42.4   96.9   99.1   68.2   92.0   96.5   27.4  163.2  115.7   41.0   253.3   238.4   256.7   306.4  1004.3\\n',\n",
       " '1844   82.3   94.9   90.2   30.6   11.6   66.7   74.0   85.0   65.1   91.8  112.1   26.1   218.2   132.4   225.7   269.0   830.4\\n']"
      ]
     },
     "execution_count": 335,
     "metadata": {},
     "output_type": "execute_result"
    }
   ],
   "source": [
    "raw_data_dict[\"rainfall\"][:10]"
   ]
  },
  {
   "cell_type": "code",
   "execution_count": 336,
   "metadata": {},
   "outputs": [],
   "source": [
    "dfs = []\n",
    "for name, data in raw_data_dict.items():\n",
    "    lst_lsts = []\n",
    "    for i in range(len(data)):\n",
    "        _temp = data[i].split(\" \")\n",
    "        lst_lsts.append([i for i in _temp if i])\n",
    "    df = pd.DataFrame(lst_lsts)\n",
    "    dfs.append(df)"
   ]
  },
  {
   "cell_type": "code",
   "execution_count": 337,
   "metadata": {},
   "outputs": [],
   "source": [
    "dfs_dict = dict(zip(titles, dfs))"
   ]
  },
  {
   "cell_type": "code",
   "execution_count": 338,
   "metadata": {},
   "outputs": [],
   "source": [
    "def clean_df(raw_df: pd.DataFrame) -> pd.DataFrame:\n",
    "    raw_df.columns = raw_df.iloc[0]\n",
    "    df = raw_df[1:]\n",
    "    df = df.replace(to_replace=[\"---\", \"\\n\", None], value=np.nan)\n",
    "    df[\"ann\"] = df[\"ann\\n\"].str.replace(\"\\n\", \"\")\n",
    "    df = df.drop(\"ann\\n\", axis=1, errors=\"ignore\")\n",
    "    df = df.apply(pd.to_numeric)\n",
    "    df = df.drop([\"win\", \"spr\", \"sum\", \"aut\", \"ann\"], axis=1, errors=\"ignore\")\n",
    "    return df\n",
    "\n",
    "\n",
    "dfs_dict = {k: clean_df(v) for k, v in dfs_dict.items()}"
   ]
  },
  {
   "cell_type": "code",
   "execution_count": 339,
   "metadata": {},
   "outputs": [],
   "source": [
    "def overwrite_months_to_come(df: pd.DataFrame) -> pd.DataFrame:\n",
    "    # overwriting months not yet occured\n",
    "    months_to_overwrite = []\n",
    "    for i in range(current_month, 13):\n",
    "        months_to_overwrite.append(month_mapping[i])\n",
    "    for month in months_to_overwrite:\n",
    "        df.loc[df[\"year\"] == current_year, month] = np.nan\n",
    "    return df"
   ]
  },
  {
   "cell_type": "code",
   "execution_count": 340,
   "metadata": {},
   "outputs": [],
   "source": [
    "dfs_dict = {k: overwrite_months_to_come(v) for k, v in dfs_dict.items()}"
   ]
  },
  {
   "cell_type": "code",
   "execution_count": 341,
   "metadata": {},
   "outputs": [],
   "source": [
    "months = dfs_dict[\"Rainfall\"].drop(\"year\", axis=1).columns.to_list()"
   ]
  },
  {
   "cell_type": "code",
   "execution_count": 342,
   "metadata": {},
   "outputs": [],
   "source": [
    "def generate_deciles(df: pd.DataFrame) -> pd.DataFrame:\n",
    "    decile_0 = df[months].min()\n",
    "    decile_10 = df[months].quantile(0.1)\n",
    "    decile_50 = df[months].quantile(0.5)\n",
    "    decile_90 = df[months].quantile(0.9)\n",
    "    decile_100 = df[months].max()\n",
    "    df_deciles = pd.concat(\n",
    "        [decile_0, decile_10, decile_50, decile_90, decile_100], axis=1\n",
    "    )\n",
    "    df_deciles = df_deciles.rename_axis(\"month\")\n",
    "    return df_deciles"
   ]
  },
  {
   "cell_type": "code",
   "execution_count": 343,
   "metadata": {},
   "outputs": [],
   "source": [
    "dfs_deciles_dict = {k: generate_deciles(v) for k, v in dfs_dict.items()}"
   ]
  },
  {
   "cell_type": "code",
   "execution_count": 344,
   "metadata": {},
   "outputs": [],
   "source": [
    "dfs_2023_dict = {}\n",
    "for k, v in dfs_dict.items():\n",
    "    df_2023 = v[v[\"year\"] == 2023].drop(\"year\", axis=1)\n",
    "    dfs_2023_dict[k] = df_2023"
   ]
  },
  {
   "cell_type": "code",
   "execution_count": 345,
   "metadata": {},
   "outputs": [],
   "source": [
    "def point_style(val, month, deciles_df):\n",
    "    _min = deciles_df[deciles_df.index == month][0.0].values[0]\n",
    "    _0_1 = deciles_df[deciles_df.index == month][0.1].values[0]\n",
    "    _0_5 = deciles_df[deciles_df.index == month][0.5].values[0]\n",
    "    _0_9 = deciles_df[deciles_df.index == month][0.9].values[0]\n",
    "    _max = deciles_df[deciles_df.index == month][1.0].values[0]\n",
    "    if _min <= val <= _0_1:\n",
    "        return \"^\"\n",
    "    elif _0_1 <= val <= _0_5:\n",
    "        return \"h\"\n",
    "    elif _0_5 <= val <= _0_9:\n",
    "        return \"o\"\n",
    "    elif _0_9 <= val <= _max:\n",
    "        return \"D\"\n",
    "    else:\n",
    "        return np.nan"
   ]
  },
  {
   "cell_type": "code",
   "execution_count": 346,
   "metadata": {},
   "outputs": [],
   "source": [
    "def generate_plot(deciles_df: pd.DataFrame, df_2023: pd.DataFrame, **kwargs) -> None:\n",
    "    title = kwargs[\"title\"]\n",
    "    ylabel = kwargs[\"ylabel\"]\n",
    "    fig, ax = plt.subplots(figsize=(12, 8))\n",
    "    ax.plot(deciles_df.index, deciles_df[0.0], c=\"firebrick\")\n",
    "    ax.plot(deciles_df.index, deciles_df[0.1], c=\"firebrick\", ls=\"--\")\n",
    "    ax.plot(deciles_df.index, deciles_df[0.5], c=\"grey\")\n",
    "    ax.plot(deciles_df.index, deciles_df[0.9], c=\"seagreen\", ls=\"--\")\n",
    "    ax.plot(deciles_df.index, deciles_df[1.0], c=\"seagreen\")\n",
    "    for month in df_2023.columns:\n",
    "        if month not in months_to_overwrite:\n",
    "            val = df_2023[month].values[0]\n",
    "            ms = point_style(val, month, deciles_df)\n",
    "            ax.scatter(month, val, marker=ms, c=\"black\", zorder=5)\n",
    "\n",
    "    ax.set_ylabel(ylabel)\n",
    "    ax.set_title(title)"
   ]
  },
  {
   "cell_type": "code",
   "execution_count": 347,
   "metadata": {},
   "outputs": [],
   "source": [
    "titles = [\"Rainfall\", \"Sunshine\", \"Max Temp\", \"Mean Temp\", \"Min Temp\"]\n",
    "ylabels = [\"mm\", \"hrs\", \"Temp (C)\", \"Temp (C)\", \"Temp (C)\"]"
   ]
  },
  {
   "cell_type": "code",
   "execution_count": 348,
   "metadata": {},
   "outputs": [],
   "source": [
    "PLOT_PLT = False\n",
    "if PLOT_PLT:\n",
    "    for df_decile, df_2023, title, ylabel in zip(\n",
    "        dfs_deciles_dict.values(), dfs_2023_dict.values(), titles, ylabels\n",
    "    ):\n",
    "        generate_plot(df_decile, df_2023, title=title, ylabel=ylabel)"
   ]
  },
  {
   "cell_type": "markdown",
   "metadata": {},
   "source": [
    "# Plotly"
   ]
  },
  {
   "cell_type": "code",
   "execution_count": 349,
   "metadata": {},
   "outputs": [],
   "source": [
    "pd_keys = [val for val in list(dfs_deciles_dict.keys()) for _ in range(12)]\n",
    "month_keys = months * 5"
   ]
  },
  {
   "cell_type": "code",
   "execution_count": 350,
   "metadata": {},
   "outputs": [],
   "source": [
    "long_df = pd.concat(dfs_deciles_dict.values(), ignore_index=True)\n",
    "long_df[\"type\"] = pd_keys\n",
    "long_df[\"month\"] = month_keys\n",
    "long_df = long_df.melt(id_vars=[\"type\", \"month\"])\n",
    "long_df = long_df.rename(columns={\"variable\": \"decile\"})"
   ]
  },
  {
   "cell_type": "code",
   "execution_count": 351,
   "metadata": {},
   "outputs": [],
   "source": [
    "df = dfs_deciles_dict[\"Rainfall\"]\n",
    "df_2023 = dfs_2023_dict[\"Rainfall\"]\n",
    "df_2023 = df_2023.T\n",
    "df_2023 = df_2023.rename(columns={df_2023.columns[0]: \"vals\"})"
   ]
  },
  {
   "cell_type": "code",
   "execution_count": 352,
   "metadata": {},
   "outputs": [],
   "source": [
    "df_2023[\"month\"] = df_2023.index\n",
    "df_2023[\"marker\"] = df_2023.apply(\n",
    "    lambda x: point_style(x[\"vals\"], x[\"month\"], df), axis=1\n",
    ")"
   ]
  },
  {
   "cell_type": "code",
   "execution_count": 359,
   "metadata": {},
   "outputs": [
    {
     "data": {
      "application/vnd.plotly.v1+json": {
       "config": {
        "plotlyServerURL": "https://plot.ly"
       },
       "data": [
        {
         "hovertemplate": "decile=0.0<br>month=%{x}<br>value=%{y}<extra></extra>",
         "legendgroup": "0.0",
         "line": {
          "color": "firebrick",
          "dash": "solid",
          "shape": "spline"
         },
         "marker": {
          "symbol": "circle"
         },
         "mode": "lines",
         "name": "0.0",
         "orientation": "v",
         "showlegend": true,
         "type": "scatter",
         "x": [
          "jan",
          "feb",
          "mar",
          "apr",
          "may",
          "jun",
          "jul",
          "aug",
          "sep",
          "oct",
          "nov",
          "dec"
         ],
         "xaxis": "x",
         "y": [
          28.5,
          9.6,
          14.2,
          11.2,
          11.6,
          14.2,
          23.2,
          9.9,
          22.5,
          31.4,
          22.3,
          26.1
         ],
         "yaxis": "y"
        },
        {
         "hovertemplate": "decile=0.1<br>month=%{x}<br>value=%{y}<extra></extra>",
         "legendgroup": "0.1",
         "line": {
          "color": "firebrick",
          "dash": "dash",
          "shape": "spline"
         },
         "marker": {
          "symbol": "circle"
         },
         "mode": "lines",
         "name": "0.1",
         "orientation": "v",
         "showlegend": true,
         "type": "scatter",
         "x": [
          "jan",
          "feb",
          "mar",
          "apr",
          "may",
          "jun",
          "jul",
          "aug",
          "sep",
          "oct",
          "nov",
          "dec"
         ],
         "xaxis": "x",
         "y": [
          62.2,
          39.12,
          43.12,
          32.51,
          35.95,
          39.02,
          48.07,
          55.580000000000005,
          46.540000000000006,
          63.9,
          60.4,
          67.26
         ],
         "yaxis": "y"
        },
        {
         "hovertemplate": "decile=0.5<br>month=%{x}<br>value=%{y}<extra></extra>",
         "legendgroup": "0.5",
         "line": {
          "color": "grey",
          "dash": "solid",
          "shape": "spline"
         },
         "marker": {
          "symbol": "circle"
         },
         "mode": "lines",
         "name": "0.5",
         "orientation": "v",
         "showlegend": true,
         "type": "scatter",
         "x": [
          "jan",
          "feb",
          "mar",
          "apr",
          "may",
          "jun",
          "jul",
          "aug",
          "sep",
          "oct",
          "nov",
          "dec"
         ],
         "xaxis": "x",
         "y": [
          107.15,
          78.25,
          76.19999999999999,
          66.30000000000001,
          64.69999999999999,
          68.5,
          83.25,
          91.9,
          92,
          113.8,
          107.7,
          109.1
         ],
         "yaxis": "y"
        },
        {
         "hovertemplate": "decile=0.9<br>month=%{x}<br>value=%{y}<extra></extra>",
         "legendgroup": "0.9",
         "line": {
          "color": "seagreen",
          "dash": "dash",
          "shape": "spline"
         },
         "marker": {
          "symbol": "circle"
         },
         "mode": "lines",
         "name": "0.9",
         "orientation": "v",
         "showlegend": true,
         "type": "scatter",
         "x": [
          "jan",
          "feb",
          "mar",
          "apr",
          "may",
          "jun",
          "jul",
          "aug",
          "sep",
          "oct",
          "nov",
          "dec"
         ],
         "xaxis": "x",
         "y": [
          151.99,
          123.65000000000003,
          119.14000000000001,
          93.73000000000002,
          98.82000000000001,
          106.9,
          119.23,
          133.16,
          133.62,
          160.98000000000002,
          161.4,
          166.76
         ],
         "yaxis": "y"
        },
        {
         "hovertemplate": "decile=1.0<br>month=%{x}<br>value=%{y}<extra></extra>",
         "legendgroup": "1.0",
         "line": {
          "color": "seagreen",
          "dash": "solid",
          "shape": "spline"
         },
         "marker": {
          "symbol": "circle"
         },
         "mode": "lines",
         "name": "1.0",
         "orientation": "v",
         "showlegend": true,
         "type": "scatter",
         "x": [
          "jan",
          "feb",
          "mar",
          "apr",
          "may",
          "jun",
          "jul",
          "aug",
          "sep",
          "oct",
          "nov",
          "dec"
         ],
         "xaxis": "x",
         "y": [
          197.8,
          213.7,
          153.9,
          128.2,
          131.7,
          149,
          150.5,
          166.8,
          178.5,
          219.8,
          215,
          216.9
         ],
         "yaxis": "y"
        },
        {
         "hovertemplate": "symbol=o<br>x=%{x}<br>y=%{y}<extra></extra>",
         "legendgroup": "o",
         "marker": {
          "color": "#636efa",
          "symbol": "circle"
         },
         "mode": "markers",
         "name": "o",
         "orientation": "v",
         "showlegend": true,
         "type": "scatter",
         "x": [
          "jan",
          "apr"
         ],
         "xaxis": "x",
         "y": [
          125.7,
          69.8
         ],
         "yaxis": "y"
        },
        {
         "hovertemplate": "symbol=h<br>x=%{x}<br>y=%{y}<extra></extra>",
         "legendgroup": "h",
         "marker": {
          "color": "#636efa",
          "symbol": "diamond"
         },
         "mode": "markers",
         "name": "h",
         "orientation": "v",
         "showlegend": true,
         "type": "scatter",
         "x": [
          "feb",
          "may",
          "jun"
         ],
         "xaxis": "x",
         "y": [
          43.4,
          39.1,
          52.2
         ],
         "yaxis": "y"
        },
        {
         "hovertemplate": "symbol=D<br>x=%{x}<br>y=%{y}<extra></extra>",
         "legendgroup": "D",
         "marker": {
          "color": "#636efa",
          "symbol": "square"
         },
         "mode": "markers",
         "name": "D",
         "orientation": "v",
         "showlegend": true,
         "type": "scatter",
         "x": [
          "mar",
          "jul"
         ],
         "xaxis": "x",
         "y": [
          132,
          140.1
         ],
         "yaxis": "y"
        }
       ],
       "layout": {
        "showlegend": false,
        "template": {
         "data": {
          "bar": [
           {
            "error_x": {
             "color": "#2a3f5f"
            },
            "error_y": {
             "color": "#2a3f5f"
            },
            "marker": {
             "line": {
              "color": "#E5ECF6",
              "width": 0.5
             },
             "pattern": {
              "fillmode": "overlay",
              "size": 10,
              "solidity": 0.2
             }
            },
            "type": "bar"
           }
          ],
          "barpolar": [
           {
            "marker": {
             "line": {
              "color": "#E5ECF6",
              "width": 0.5
             },
             "pattern": {
              "fillmode": "overlay",
              "size": 10,
              "solidity": 0.2
             }
            },
            "type": "barpolar"
           }
          ],
          "carpet": [
           {
            "aaxis": {
             "endlinecolor": "#2a3f5f",
             "gridcolor": "white",
             "linecolor": "white",
             "minorgridcolor": "white",
             "startlinecolor": "#2a3f5f"
            },
            "baxis": {
             "endlinecolor": "#2a3f5f",
             "gridcolor": "white",
             "linecolor": "white",
             "minorgridcolor": "white",
             "startlinecolor": "#2a3f5f"
            },
            "type": "carpet"
           }
          ],
          "choropleth": [
           {
            "colorbar": {
             "outlinewidth": 0,
             "ticks": ""
            },
            "type": "choropleth"
           }
          ],
          "contour": [
           {
            "colorbar": {
             "outlinewidth": 0,
             "ticks": ""
            },
            "colorscale": [
             [
              0,
              "#0d0887"
             ],
             [
              0.1111111111111111,
              "#46039f"
             ],
             [
              0.2222222222222222,
              "#7201a8"
             ],
             [
              0.3333333333333333,
              "#9c179e"
             ],
             [
              0.4444444444444444,
              "#bd3786"
             ],
             [
              0.5555555555555556,
              "#d8576b"
             ],
             [
              0.6666666666666666,
              "#ed7953"
             ],
             [
              0.7777777777777778,
              "#fb9f3a"
             ],
             [
              0.8888888888888888,
              "#fdca26"
             ],
             [
              1,
              "#f0f921"
             ]
            ],
            "type": "contour"
           }
          ],
          "contourcarpet": [
           {
            "colorbar": {
             "outlinewidth": 0,
             "ticks": ""
            },
            "type": "contourcarpet"
           }
          ],
          "heatmap": [
           {
            "colorbar": {
             "outlinewidth": 0,
             "ticks": ""
            },
            "colorscale": [
             [
              0,
              "#0d0887"
             ],
             [
              0.1111111111111111,
              "#46039f"
             ],
             [
              0.2222222222222222,
              "#7201a8"
             ],
             [
              0.3333333333333333,
              "#9c179e"
             ],
             [
              0.4444444444444444,
              "#bd3786"
             ],
             [
              0.5555555555555556,
              "#d8576b"
             ],
             [
              0.6666666666666666,
              "#ed7953"
             ],
             [
              0.7777777777777778,
              "#fb9f3a"
             ],
             [
              0.8888888888888888,
              "#fdca26"
             ],
             [
              1,
              "#f0f921"
             ]
            ],
            "type": "heatmap"
           }
          ],
          "heatmapgl": [
           {
            "colorbar": {
             "outlinewidth": 0,
             "ticks": ""
            },
            "colorscale": [
             [
              0,
              "#0d0887"
             ],
             [
              0.1111111111111111,
              "#46039f"
             ],
             [
              0.2222222222222222,
              "#7201a8"
             ],
             [
              0.3333333333333333,
              "#9c179e"
             ],
             [
              0.4444444444444444,
              "#bd3786"
             ],
             [
              0.5555555555555556,
              "#d8576b"
             ],
             [
              0.6666666666666666,
              "#ed7953"
             ],
             [
              0.7777777777777778,
              "#fb9f3a"
             ],
             [
              0.8888888888888888,
              "#fdca26"
             ],
             [
              1,
              "#f0f921"
             ]
            ],
            "type": "heatmapgl"
           }
          ],
          "histogram": [
           {
            "marker": {
             "pattern": {
              "fillmode": "overlay",
              "size": 10,
              "solidity": 0.2
             }
            },
            "type": "histogram"
           }
          ],
          "histogram2d": [
           {
            "colorbar": {
             "outlinewidth": 0,
             "ticks": ""
            },
            "colorscale": [
             [
              0,
              "#0d0887"
             ],
             [
              0.1111111111111111,
              "#46039f"
             ],
             [
              0.2222222222222222,
              "#7201a8"
             ],
             [
              0.3333333333333333,
              "#9c179e"
             ],
             [
              0.4444444444444444,
              "#bd3786"
             ],
             [
              0.5555555555555556,
              "#d8576b"
             ],
             [
              0.6666666666666666,
              "#ed7953"
             ],
             [
              0.7777777777777778,
              "#fb9f3a"
             ],
             [
              0.8888888888888888,
              "#fdca26"
             ],
             [
              1,
              "#f0f921"
             ]
            ],
            "type": "histogram2d"
           }
          ],
          "histogram2dcontour": [
           {
            "colorbar": {
             "outlinewidth": 0,
             "ticks": ""
            },
            "colorscale": [
             [
              0,
              "#0d0887"
             ],
             [
              0.1111111111111111,
              "#46039f"
             ],
             [
              0.2222222222222222,
              "#7201a8"
             ],
             [
              0.3333333333333333,
              "#9c179e"
             ],
             [
              0.4444444444444444,
              "#bd3786"
             ],
             [
              0.5555555555555556,
              "#d8576b"
             ],
             [
              0.6666666666666666,
              "#ed7953"
             ],
             [
              0.7777777777777778,
              "#fb9f3a"
             ],
             [
              0.8888888888888888,
              "#fdca26"
             ],
             [
              1,
              "#f0f921"
             ]
            ],
            "type": "histogram2dcontour"
           }
          ],
          "mesh3d": [
           {
            "colorbar": {
             "outlinewidth": 0,
             "ticks": ""
            },
            "type": "mesh3d"
           }
          ],
          "parcoords": [
           {
            "line": {
             "colorbar": {
              "outlinewidth": 0,
              "ticks": ""
             }
            },
            "type": "parcoords"
           }
          ],
          "pie": [
           {
            "automargin": true,
            "type": "pie"
           }
          ],
          "scatter": [
           {
            "fillpattern": {
             "fillmode": "overlay",
             "size": 10,
             "solidity": 0.2
            },
            "type": "scatter"
           }
          ],
          "scatter3d": [
           {
            "line": {
             "colorbar": {
              "outlinewidth": 0,
              "ticks": ""
             }
            },
            "marker": {
             "colorbar": {
              "outlinewidth": 0,
              "ticks": ""
             }
            },
            "type": "scatter3d"
           }
          ],
          "scattercarpet": [
           {
            "marker": {
             "colorbar": {
              "outlinewidth": 0,
              "ticks": ""
             }
            },
            "type": "scattercarpet"
           }
          ],
          "scattergeo": [
           {
            "marker": {
             "colorbar": {
              "outlinewidth": 0,
              "ticks": ""
             }
            },
            "type": "scattergeo"
           }
          ],
          "scattergl": [
           {
            "marker": {
             "colorbar": {
              "outlinewidth": 0,
              "ticks": ""
             }
            },
            "type": "scattergl"
           }
          ],
          "scattermapbox": [
           {
            "marker": {
             "colorbar": {
              "outlinewidth": 0,
              "ticks": ""
             }
            },
            "type": "scattermapbox"
           }
          ],
          "scatterpolar": [
           {
            "marker": {
             "colorbar": {
              "outlinewidth": 0,
              "ticks": ""
             }
            },
            "type": "scatterpolar"
           }
          ],
          "scatterpolargl": [
           {
            "marker": {
             "colorbar": {
              "outlinewidth": 0,
              "ticks": ""
             }
            },
            "type": "scatterpolargl"
           }
          ],
          "scatterternary": [
           {
            "marker": {
             "colorbar": {
              "outlinewidth": 0,
              "ticks": ""
             }
            },
            "type": "scatterternary"
           }
          ],
          "surface": [
           {
            "colorbar": {
             "outlinewidth": 0,
             "ticks": ""
            },
            "colorscale": [
             [
              0,
              "#0d0887"
             ],
             [
              0.1111111111111111,
              "#46039f"
             ],
             [
              0.2222222222222222,
              "#7201a8"
             ],
             [
              0.3333333333333333,
              "#9c179e"
             ],
             [
              0.4444444444444444,
              "#bd3786"
             ],
             [
              0.5555555555555556,
              "#d8576b"
             ],
             [
              0.6666666666666666,
              "#ed7953"
             ],
             [
              0.7777777777777778,
              "#fb9f3a"
             ],
             [
              0.8888888888888888,
              "#fdca26"
             ],
             [
              1,
              "#f0f921"
             ]
            ],
            "type": "surface"
           }
          ],
          "table": [
           {
            "cells": {
             "fill": {
              "color": "#EBF0F8"
             },
             "line": {
              "color": "white"
             }
            },
            "header": {
             "fill": {
              "color": "#C8D4E3"
             },
             "line": {
              "color": "white"
             }
            },
            "type": "table"
           }
          ]
         },
         "layout": {
          "annotationdefaults": {
           "arrowcolor": "#2a3f5f",
           "arrowhead": 0,
           "arrowwidth": 1
          },
          "autotypenumbers": "strict",
          "coloraxis": {
           "colorbar": {
            "outlinewidth": 0,
            "ticks": ""
           }
          },
          "colorscale": {
           "diverging": [
            [
             0,
             "#8e0152"
            ],
            [
             0.1,
             "#c51b7d"
            ],
            [
             0.2,
             "#de77ae"
            ],
            [
             0.3,
             "#f1b6da"
            ],
            [
             0.4,
             "#fde0ef"
            ],
            [
             0.5,
             "#f7f7f7"
            ],
            [
             0.6,
             "#e6f5d0"
            ],
            [
             0.7,
             "#b8e186"
            ],
            [
             0.8,
             "#7fbc41"
            ],
            [
             0.9,
             "#4d9221"
            ],
            [
             1,
             "#276419"
            ]
           ],
           "sequential": [
            [
             0,
             "#0d0887"
            ],
            [
             0.1111111111111111,
             "#46039f"
            ],
            [
             0.2222222222222222,
             "#7201a8"
            ],
            [
             0.3333333333333333,
             "#9c179e"
            ],
            [
             0.4444444444444444,
             "#bd3786"
            ],
            [
             0.5555555555555556,
             "#d8576b"
            ],
            [
             0.6666666666666666,
             "#ed7953"
            ],
            [
             0.7777777777777778,
             "#fb9f3a"
            ],
            [
             0.8888888888888888,
             "#fdca26"
            ],
            [
             1,
             "#f0f921"
            ]
           ],
           "sequentialminus": [
            [
             0,
             "#0d0887"
            ],
            [
             0.1111111111111111,
             "#46039f"
            ],
            [
             0.2222222222222222,
             "#7201a8"
            ],
            [
             0.3333333333333333,
             "#9c179e"
            ],
            [
             0.4444444444444444,
             "#bd3786"
            ],
            [
             0.5555555555555556,
             "#d8576b"
            ],
            [
             0.6666666666666666,
             "#ed7953"
            ],
            [
             0.7777777777777778,
             "#fb9f3a"
            ],
            [
             0.8888888888888888,
             "#fdca26"
            ],
            [
             1,
             "#f0f921"
            ]
           ]
          },
          "colorway": [
           "#636efa",
           "#EF553B",
           "#00cc96",
           "#ab63fa",
           "#FFA15A",
           "#19d3f3",
           "#FF6692",
           "#B6E880",
           "#FF97FF",
           "#FECB52"
          ],
          "font": {
           "color": "#2a3f5f"
          },
          "geo": {
           "bgcolor": "white",
           "lakecolor": "white",
           "landcolor": "#E5ECF6",
           "showlakes": true,
           "showland": true,
           "subunitcolor": "white"
          },
          "hoverlabel": {
           "align": "left"
          },
          "hovermode": "closest",
          "mapbox": {
           "style": "light"
          },
          "paper_bgcolor": "white",
          "plot_bgcolor": "#E5ECF6",
          "polar": {
           "angularaxis": {
            "gridcolor": "white",
            "linecolor": "white",
            "ticks": ""
           },
           "bgcolor": "#E5ECF6",
           "radialaxis": {
            "gridcolor": "white",
            "linecolor": "white",
            "ticks": ""
           }
          },
          "scene": {
           "xaxis": {
            "backgroundcolor": "#E5ECF6",
            "gridcolor": "white",
            "gridwidth": 2,
            "linecolor": "white",
            "showbackground": true,
            "ticks": "",
            "zerolinecolor": "white"
           },
           "yaxis": {
            "backgroundcolor": "#E5ECF6",
            "gridcolor": "white",
            "gridwidth": 2,
            "linecolor": "white",
            "showbackground": true,
            "ticks": "",
            "zerolinecolor": "white"
           },
           "zaxis": {
            "backgroundcolor": "#E5ECF6",
            "gridcolor": "white",
            "gridwidth": 2,
            "linecolor": "white",
            "showbackground": true,
            "ticks": "",
            "zerolinecolor": "white"
           }
          },
          "shapedefaults": {
           "line": {
            "color": "#2a3f5f"
           }
          },
          "ternary": {
           "aaxis": {
            "gridcolor": "white",
            "linecolor": "white",
            "ticks": ""
           },
           "baxis": {
            "gridcolor": "white",
            "linecolor": "white",
            "ticks": ""
           },
           "bgcolor": "#E5ECF6",
           "caxis": {
            "gridcolor": "white",
            "linecolor": "white",
            "ticks": ""
           }
          },
          "title": {
           "x": 0.05
          },
          "xaxis": {
           "automargin": true,
           "gridcolor": "white",
           "linecolor": "white",
           "ticks": "",
           "title": {
            "standoff": 15
           },
           "zerolinecolor": "white",
           "zerolinewidth": 2
          },
          "yaxis": {
           "automargin": true,
           "gridcolor": "white",
           "linecolor": "white",
           "ticks": "",
           "title": {
            "standoff": 15
           },
           "zerolinecolor": "white",
           "zerolinewidth": 2
          }
         }
        },
        "title": {
         "text": "Rainfall"
        },
        "xaxis": {
         "title": {
          "text": ""
         }
        },
        "yaxis": {
         "title": {
          "text": "mm"
         }
        }
       }
      }
     },
     "metadata": {},
     "output_type": "display_data"
    }
   ],
   "source": [
    "df = long_df[long_df[\"type\"] == \"Rainfall\"]\n",
    "lines = px.line(\n",
    "    df,\n",
    "    x=\"month\",\n",
    "    y=\"value\",\n",
    "    title=\"Rainfall\",\n",
    "    color=\"decile\",\n",
    "    color_discrete_sequence=[\"firebrick\", \"firebrick\", \"grey\", \"seagreen\", \"seagreen\"],\n",
    "    line_dash=\"decile\",\n",
    "    line_dash_sequence=[\"solid\", \"dash\", \"solid\", \"dash\", \"solid\"],\n",
    "    line_shape=\"spline\",  # or 'linear')\n",
    ")\n",
    "scatter = px.scatter(x=df_2023[\"month\"], y=df_2023[\"vals\"], symbol=df_2023[\"marker\"])\n",
    "fig = go.Figure(data=lines.data + scatter.data)\n",
    "fig.update_layout(showlegend=False, xaxis_title=\"\", yaxis_title=\"mm\", title=\"Rainfall\")\n",
    "fig.show()"
   ]
  },
  {
   "cell_type": "code",
   "execution_count": null,
   "metadata": {},
   "outputs": [],
   "source": []
  }
 ],
 "metadata": {
  "kernelspec": {
   "display_name": ".venv",
   "language": "python",
   "name": "python3"
  },
  "language_info": {
   "codemirror_mode": {
    "name": "ipython",
    "version": 3
   },
   "file_extension": ".py",
   "mimetype": "text/x-python",
   "name": "python",
   "nbconvert_exporter": "python",
   "pygments_lexer": "ipython3",
   "version": "3.11.4"
  },
  "orig_nbformat": 4
 },
 "nbformat": 4,
 "nbformat_minor": 2
}
